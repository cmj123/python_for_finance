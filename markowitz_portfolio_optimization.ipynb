{
 "cells": [
  {
   "cell_type": "markdown",
   "metadata": {},
   "source": [
    "## Markowitz Portfolio Optimization"
   ]
  },
  {
   "cell_type": "markdown",
   "metadata": {},
   "source": [
    "### Import key libraries"
   ]
  },
  {
   "cell_type": "code",
   "execution_count": 1,
   "metadata": {},
   "outputs": [
    {
     "name": "stderr",
     "output_type": "stream",
     "text": [
      "\n",
      "Bad key axes.color_cycle in file /Users/esuabomdijemeni/anaconda3/lib/python3.7/site-packages/matplotlib/mpl-data/stylelib/ourstyle.mplstyle, line 3 ('axes.color_cycle: 19e7d8, e719ca, 191ce7, 101011, e51919, f0f214, 48f214, 1af033')\n",
      "You probably need to get an updated matplotlibrc file from\n",
      "https://github.com/matplotlib/matplotlib/blob/v3.3.2/matplotlibrc.template\n",
      "or from the matplotlib source distribution\n"
     ]
    }
   ],
   "source": [
    "import numpy as np\n",
    "import pandas as pd\n",
    "from pandas_datareader import data as wb\n",
    "import matplotlib.pyplot as plt\n",
    "%matplotlib inline"
   ]
  },
  {
   "cell_type": "markdown",
   "metadata": {},
   "source": [
    "### Get data"
   ]
  },
  {
   "cell_type": "code",
   "execution_count": 2,
   "metadata": {},
   "outputs": [],
   "source": [
    "assets = ['PG', '^GSPC','PLUG', 'TSLA', 'HMWD.L']\n",
    "pf_data = pd.DataFrame()\n",
    "\n",
    "for a in assets:\n",
    "    pf_data[a] = wb.DataReader(a, data_source ='yahoo', start='2017-1-1')['Adj Close']"
   ]
  },
  {
   "cell_type": "code",
   "execution_count": 3,
   "metadata": {},
   "outputs": [
    {
     "data": {
      "text/html": [
       "<div>\n",
       "<style scoped>\n",
       "    .dataframe tbody tr th:only-of-type {\n",
       "        vertical-align: middle;\n",
       "    }\n",
       "\n",
       "    .dataframe tbody tr th {\n",
       "        vertical-align: top;\n",
       "    }\n",
       "\n",
       "    .dataframe thead th {\n",
       "        text-align: right;\n",
       "    }\n",
       "</style>\n",
       "<table border=\"1\" class=\"dataframe\">\n",
       "  <thead>\n",
       "    <tr style=\"text-align: right;\">\n",
       "      <th></th>\n",
       "      <th>PG</th>\n",
       "      <th>^GSPC</th>\n",
       "      <th>PLUG</th>\n",
       "      <th>TSLA</th>\n",
       "      <th>HMWD.L</th>\n",
       "    </tr>\n",
       "    <tr>\n",
       "      <th>Date</th>\n",
       "      <th></th>\n",
       "      <th></th>\n",
       "      <th></th>\n",
       "      <th></th>\n",
       "      <th></th>\n",
       "    </tr>\n",
       "  </thead>\n",
       "  <tbody>\n",
       "    <tr>\n",
       "      <th>2021-02-23</th>\n",
       "      <td>127.519997</td>\n",
       "      <td>3881.370117</td>\n",
       "      <td>46.580002</td>\n",
       "      <td>698.840027</td>\n",
       "      <td>19.682501</td>\n",
       "    </tr>\n",
       "    <tr>\n",
       "      <th>2021-02-24</th>\n",
       "      <td>127.660004</td>\n",
       "      <td>3925.429932</td>\n",
       "      <td>50.160000</td>\n",
       "      <td>742.020020</td>\n",
       "      <td>19.847500</td>\n",
       "    </tr>\n",
       "    <tr>\n",
       "      <th>2021-02-25</th>\n",
       "      <td>126.580002</td>\n",
       "      <td>3829.340088</td>\n",
       "      <td>43.340000</td>\n",
       "      <td>682.219971</td>\n",
       "      <td>19.776251</td>\n",
       "    </tr>\n",
       "    <tr>\n",
       "      <th>2021-02-26</th>\n",
       "      <td>123.529999</td>\n",
       "      <td>3811.149902</td>\n",
       "      <td>NaN</td>\n",
       "      <td>675.500000</td>\n",
       "      <td>19.636250</td>\n",
       "    </tr>\n",
       "    <tr>\n",
       "      <th>2021-03-01</th>\n",
       "      <td>125.080002</td>\n",
       "      <td>3910.429932</td>\n",
       "      <td>51.330002</td>\n",
       "      <td>709.679993</td>\n",
       "      <td>27.834999</td>\n",
       "    </tr>\n",
       "  </tbody>\n",
       "</table>\n",
       "</div>"
      ],
      "text/plain": [
       "                    PG        ^GSPC       PLUG        TSLA     HMWD.L\n",
       "Date                                                                 \n",
       "2021-02-23  127.519997  3881.370117  46.580002  698.840027  19.682501\n",
       "2021-02-24  127.660004  3925.429932  50.160000  742.020020  19.847500\n",
       "2021-02-25  126.580002  3829.340088  43.340000  682.219971  19.776251\n",
       "2021-02-26  123.529999  3811.149902        NaN  675.500000  19.636250\n",
       "2021-03-01  125.080002  3910.429932  51.330002  709.679993  27.834999"
      ]
     },
     "execution_count": 3,
     "metadata": {},
     "output_type": "execute_result"
    }
   ],
   "source": [
    "pf_data.tail()"
   ]
  },
  {
   "cell_type": "code",
   "execution_count": 4,
   "metadata": {},
   "outputs": [
    {
     "data": {
      "text/plain": [
       "<AxesSubplot:xlabel='Date'>"
      ]
     },
     "execution_count": 4,
     "metadata": {},
     "output_type": "execute_result"
    },
    {
     "data": {
      "image/png": "[encoded data removed]",
      "text/plain": [
       "<Figure size 720x360 with 1 Axes>"
      ]
     },
     "metadata": {
      "needs_background": "light"
     },
     "output_type": "display_data"
    }
   ],
   "source": [
    "(pf_data/pf_data.iloc[0] * 100).plot(figsize=(10,5))"
   ]
  },
  {
   "cell_type": "code",
   "execution_count": 5,
   "metadata": {},
   "outputs": [],
   "source": [
    "log_returns = np.log(pf_data / pf_data.shift(1))"
   ]
  },
  {
   "cell_type": "code",
   "execution_count": 6,
   "metadata": {},
   "outputs": [
    {
     "data": {
      "text/plain": [
       "PG        0.124246\n",
       "^GSPC     0.131398\n",
       "PLUG      0.857731\n",
       "TSLA      0.668517\n",
       "HMWD.L   -0.973057\n",
       "dtype: float64"
      ]
     },
     "execution_count": 6,
     "metadata": {},
     "output_type": "execute_result"
    }
   ],
   "source": [
    "log_returns.mean() * 250"
   ]
  },
  {
   "cell_type": "code",
   "execution_count": 7,
   "metadata": {},
   "outputs": [
    {
     "data": {
      "text/html": [
       "<div>\n",
       "<style scoped>\n",
       "    .dataframe tbody tr th:only-of-type {\n",
       "        vertical-align: middle;\n",
       "    }\n",
       "\n",
       "    .dataframe tbody tr th {\n",
       "        vertical-align: top;\n",
       "    }\n",
       "\n",
       "    .dataframe thead th {\n",
       "        text-align: right;\n",
       "    }\n",
       "</style>\n",
       "<table border=\"1\" class=\"dataframe\">\n",
       "  <thead>\n",
       "    <tr style=\"text-align: right;\">\n",
       "      <th></th>\n",
       "      <th>PG</th>\n",
       "      <th>^GSPC</th>\n",
       "      <th>PLUG</th>\n",
       "      <th>TSLA</th>\n",
       "      <th>HMWD.L</th>\n",
       "    </tr>\n",
       "  </thead>\n",
       "  <tbody>\n",
       "    <tr>\n",
       "      <th>PG</th>\n",
       "      <td>0.044285</td>\n",
       "      <td>0.026138</td>\n",
       "      <td>0.026742</td>\n",
       "      <td>0.023276</td>\n",
       "      <td>0.022152</td>\n",
       "    </tr>\n",
       "    <tr>\n",
       "      <th>^GSPC</th>\n",
       "      <td>0.026138</td>\n",
       "      <td>0.041593</td>\n",
       "      <td>0.061822</td>\n",
       "      <td>0.054910</td>\n",
       "      <td>0.024897</td>\n",
       "    </tr>\n",
       "    <tr>\n",
       "      <th>PLUG</th>\n",
       "      <td>0.026742</td>\n",
       "      <td>0.061822</td>\n",
       "      <td>0.656719</td>\n",
       "      <td>0.137667</td>\n",
       "      <td>-0.068615</td>\n",
       "    </tr>\n",
       "    <tr>\n",
       "      <th>TSLA</th>\n",
       "      <td>0.023276</td>\n",
       "      <td>0.054910</td>\n",
       "      <td>0.137667</td>\n",
       "      <td>0.376692</td>\n",
       "      <td>-0.042854</td>\n",
       "    </tr>\n",
       "    <tr>\n",
       "      <th>HMWD.L</th>\n",
       "      <td>0.022152</td>\n",
       "      <td>0.024897</td>\n",
       "      <td>-0.068615</td>\n",
       "      <td>-0.042854</td>\n",
       "      <td>5.305063</td>\n",
       "    </tr>\n",
       "  </tbody>\n",
       "</table>\n",
       "</div>"
      ],
      "text/plain": [
       "              PG     ^GSPC      PLUG      TSLA    HMWD.L\n",
       "PG      0.044285  0.026138  0.026742  0.023276  0.022152\n",
       "^GSPC   0.026138  0.041593  0.061822  0.054910  0.024897\n",
       "PLUG    0.026742  0.061822  0.656719  0.137667 -0.068615\n",
       "TSLA    0.023276  0.054910  0.137667  0.376692 -0.042854\n",
       "HMWD.L  0.022152  0.024897 -0.068615 -0.042854  5.305063"
      ]
     },
     "execution_count": 7,
     "metadata": {},
     "output_type": "execute_result"
    }
   ],
   "source": [
    "log_returns.cov() * 250"
   ]
  },
  {
   "cell_type": "code",
   "execution_count": 8,
   "metadata": {},
   "outputs": [
    {
     "data": {
      "text/plain": [
       "5"
      ]
     },
     "execution_count": 8,
     "metadata": {},
     "output_type": "execute_result"
    }
   ],
   "source": [
    "num_assets = len(assets)\n",
    "num_assets"
   ]
  },
  {
   "cell_type": "code",
   "execution_count": 9,
   "metadata": {},
   "outputs": [
    {
     "data": {
      "text/plain": [
       "array([0.48788572, 0.75092317])"
      ]
     },
     "execution_count": 9,
     "metadata": {},
     "output_type": "execute_result"
    }
   ],
   "source": [
    "arr = np.random.random(2)\n",
    "arr"
   ]
  },
  {
   "cell_type": "code",
   "execution_count": 10,
   "metadata": {},
   "outputs": [
    {
     "data": {
      "text/plain": [
       "1.2388088908927983"
      ]
     },
     "execution_count": 10,
     "metadata": {},
     "output_type": "execute_result"
    }
   ],
   "source": [
    "arr[0] + arr[1]"
   ]
  },
  {
   "cell_type": "code",
   "execution_count": 11,
   "metadata": {},
   "outputs": [
    {
     "data": {
      "text/plain": [
       "array([0.1961134 , 0.13387964, 0.26340366, 0.22884091, 0.17776239])"
      ]
     },
     "execution_count": 11,
     "metadata": {},
     "output_type": "execute_result"
    }
   ],
   "source": [
    "weights = np.random.random(num_assets)\n",
    "weights /= np.sum(weights)\n",
    "weights"
   ]
  },
  {
   "cell_type": "code",
   "execution_count": 12,
   "metadata": {},
   "outputs": [
    {
     "data": {
      "text/plain": [
       "0.32999304211258773"
      ]
     },
     "execution_count": 12,
     "metadata": {},
     "output_type": "execute_result"
    }
   ],
   "source": [
    "weights[0] + weights[1]"
   ]
  },
  {
   "cell_type": "markdown",
   "metadata": {},
   "source": [
    "### Expected Porfolio Return"
   ]
  },
  {
   "cell_type": "code",
   "execution_count": 13,
   "metadata": {},
   "outputs": [
    {
     "data": {
      "text/plain": [
       "0.24789834550579348"
      ]
     },
     "execution_count": 13,
     "metadata": {},
     "output_type": "execute_result"
    }
   ],
   "source": [
    "np.sum(weights * log_returns.mean()) * 250"
   ]
  },
  {
   "cell_type": "markdown",
   "metadata": {},
   "source": [
    "### Expected Portfolio Variance"
   ]
  },
  {
   "cell_type": "code",
   "execution_count": 14,
   "metadata": {},
   "outputs": [
    {
     "data": {
      "text/plain": [
       "0.2587398839912041"
      ]
     },
     "execution_count": 14,
     "metadata": {},
     "output_type": "execute_result"
    }
   ],
   "source": [
    "np.dot(weights.T, np.dot(log_returns.cov() * 250, weights))"
   ]
  },
  {
   "cell_type": "code",
   "execution_count": 15,
   "metadata": {},
   "outputs": [
    {
     "data": {
      "text/plain": [
       "0.5086648051430374"
      ]
     },
     "execution_count": 15,
     "metadata": {},
     "output_type": "execute_result"
    }
   ],
   "source": [
    "np.sqrt(np.dot(weights.T, np.dot(log_returns.cov() * 250, weights)))"
   ]
  },
  {
   "cell_type": "code",
   "execution_count": null,
   "metadata": {},
   "outputs": [],
   "source": []
  },
  {
   "cell_type": "code",
   "execution_count": 20,
   "metadata": {},
   "outputs": [
    {
     "data": {
      "text/plain": [
       "(array([ 0.2654774 ,  0.17811795,  0.15871328, ...,  0.2646767 ,\n",
       "         0.36301229, -0.00633404]),\n",
       " array([0.36597998, 0.4668859 , 0.42239466, ..., 0.51008326, 0.3962044 ,\n",
       "        0.62376073]))"
      ]
     },
     "execution_count": 20,
     "metadata": {},
     "output_type": "execute_result"
    }
   ],
   "source": [
    "pfolio_returns = []\n",
    "pfolio_volalities = []\n",
    "\n",
    "for x in range(10000):\n",
    "    weights = np.random.random(num_assets)\n",
    "    weights /= np.sum(weights)\n",
    "    pfolio_returns.append(np.sum(weights * log_returns.mean()) * 250)\n",
    "    pfolio_volalities.append(np.sqrt(np.dot(weights.T, np.dot(log_returns.cov() * 250, weights))))\n",
    " \n",
    "pfolio_returns = np.array(pfolio_returns)\n",
    "pfolio_volalities = np.array(pfolio_volalities )\n",
    "pfolio_returns, pfolio_volalities"
   ]
  },
  {
   "cell_type": "code",
   "execution_count": 21,
   "metadata": {},
   "outputs": [],
   "source": [
    "portfolios = pd.DataFrame({'Return':pfolio_returns, 'Volatility':pfolio_volalities})\n"
   ]
  },
  {
   "cell_type": "code",
   "execution_count": 22,
   "metadata": {},
   "outputs": [
    {
     "data": {
      "text/html": [
       "<div>\n",
       "<style scoped>\n",
       "    .dataframe tbody tr th:only-of-type {\n",
       "        vertical-align: middle;\n",
       "    }\n",
       "\n",
       "    .dataframe tbody tr th {\n",
       "        vertical-align: top;\n",
       "    }\n",
       "\n",
       "    .dataframe thead th {\n",
       "        text-align: right;\n",
       "    }\n",
       "</style>\n",
       "<table border=\"1\" class=\"dataframe\">\n",
       "  <thead>\n",
       "    <tr style=\"text-align: right;\">\n",
       "      <th></th>\n",
       "      <th>Return</th>\n",
       "      <th>Volatility</th>\n",
       "    </tr>\n",
       "  </thead>\n",
       "  <tbody>\n",
       "    <tr>\n",
       "      <th>0</th>\n",
       "      <td>0.265477</td>\n",
       "      <td>0.365980</td>\n",
       "    </tr>\n",
       "    <tr>\n",
       "      <th>1</th>\n",
       "      <td>0.178118</td>\n",
       "      <td>0.466886</td>\n",
       "    </tr>\n",
       "    <tr>\n",
       "      <th>2</th>\n",
       "      <td>0.158713</td>\n",
       "      <td>0.422395</td>\n",
       "    </tr>\n",
       "    <tr>\n",
       "      <th>3</th>\n",
       "      <td>-0.014689</td>\n",
       "      <td>0.785691</td>\n",
       "    </tr>\n",
       "    <tr>\n",
       "      <th>4</th>\n",
       "      <td>0.341247</td>\n",
       "      <td>0.347751</td>\n",
       "    </tr>\n",
       "  </tbody>\n",
       "</table>\n",
       "</div>"
      ],
      "text/plain": [
       "     Return  Volatility\n",
       "0  0.265477    0.365980\n",
       "1  0.178118    0.466886\n",
       "2  0.158713    0.422395\n",
       "3 -0.014689    0.785691\n",
       "4  0.341247    0.347751"
      ]
     },
     "execution_count": 22,
     "metadata": {},
     "output_type": "execute_result"
    }
   ],
   "source": [
    "portfolios.head()"
   ]
  },
  {
   "cell_type": "code",
   "execution_count": 23,
   "metadata": {},
   "outputs": [
    {
     "data": {
      "text/plain": [
       "Text(0, 0.5, 'Expected Return')"
      ]
     },
     "execution_count": 23,
     "metadata": {},
     "output_type": "execute_result"
    },
    {
     "data": {
      "image/png": "[encoded data removed]",
      "text/plain": [
       "<Figure size 720x432 with 1 Axes>"
      ]
     },
     "metadata": {
      "needs_background": "light"
     },
     "output_type": "display_data"
    }
   ],
   "source": [
    "portfolios.plot(x='Volatility', y='Return', kind='scatter', figsize=(10,6))\n",
    "plt.xlabel('Expected Volatility')\n",
    "plt.ylabel('Expected Return')"
   ]
  },
  {
   "cell_type": "code",
   "execution_count": null,
   "metadata": {},
   "outputs": [],
   "source": []
  },
  {
   "cell_type": "code",
   "execution_count": null,
   "metadata": {},
   "outputs": [],
   "source": []
  },
  {
   "cell_type": "code",
   "execution_count": null,
   "metadata": {},
   "outputs": [],
   "source": []
  }
 ],
 "metadata": {
  "kernelspec": {
   "display_name": "Python 3",
   "language": "python",
   "name": "python3"
  },
  "language_info": {
   "codemirror_mode": {
    "name": "ipython",
    "version": 3
   },
   "file_extension": ".py",
   "mimetype": "text/x-python",
   "name": "python",
   "nbconvert_exporter": "python",
   "pygments_lexer": "ipython3",
   "version": "3.7.3"
  }
 },
 "nbformat": 4,
 "nbformat_minor": 4
}
